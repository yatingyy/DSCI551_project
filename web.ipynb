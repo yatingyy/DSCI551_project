{
 "cells": [
  {
   "cell_type": "code",
   "execution_count": 16,
   "id": "26c00d5f",
   "metadata": {},
   "outputs": [],
   "source": [
    "import sys\n",
    "import pandas as pd\n",
    "import numpy as np\n",
    "import requests\n",
    "import string\n",
    "import json\n",
    "import datetime\n",
    "import sqlite3\n",
    "from pandas.core.ops import invalid_comparison\n",
    "\n",
    "#web\n",
    "import warnings\n",
    "warnings.filterwarnings('ignore')\n",
    "\n",
    "import ipywidgets\n",
    "from IPython.display import display, clear_output"
   ]
  },
  {
   "cell_type": "code",
   "execution_count": 10,
   "id": "244ad7c0",
   "metadata": {},
   "outputs": [],
   "source": [
    "#!jupyter nbextension enable – py widgetsnbextension – sys-prefix\n",
    "#!jupyter serverextension enable voila – sys-prefix"
   ]
  },
  {
   "cell_type": "code",
   "execution_count": 46,
   "id": "3d64324c",
   "metadata": {},
   "outputs": [
    {
     "data": {
      "application/vnd.jupyter.widget-view+json": {
       "model_id": "a35897a4c90b415fb000b56d63b26e46",
       "version_major": 2,
       "version_minor": 0
      },
      "text/plain": [
       "Tab(children=(Text(value='', description='mkdir', placeholder='type here'), Text(value='', description='ls', p…"
      ]
     },
     "execution_count": 46,
     "metadata": {},
     "output_type": "execute_result"
    }
   ],
   "source": [
    "\n",
    "tab_contents = ['mkdir', 'ls', 'cat', 'rm', 'put', 'getPartitionLocations', 'readPartition']\n",
    "children = [widgets.Text(value = '',\n",
    "                         placeholder ='type here',\n",
    "                         description=name) for name in tab_contents]\n",
    "tab = widgets.Tab()\n",
    "tab.children = children\n",
    "\n",
    "tab.titles = ['mkdir', 'ls', 'cat', 'rm', 'put', 'getPartitionLocations', 'readPartition']\n",
    "tab"
   ]
  },
  {
   "cell_type": "code",
   "execution_count": null,
   "id": "8a3c12dd",
   "metadata": {},
   "outputs": [],
   "source": []
  },
  {
   "cell_type": "code",
   "execution_count": 17,
   "id": "193e3725",
   "metadata": {},
   "outputs": [
    {
     "data": {
      "text/plain": [
       "<sqlite3.Cursor at 0x1112b7640>"
      ]
     },
     "execution_count": 17,
     "metadata": {},
     "output_type": "execute_result"
    }
   ],
   "source": [
    "# SQLite set up\n",
    "edfs = sqlite3.connect(\"edfs.db\")\n",
    "cur = edfs.cursor()\n",
    "cur.execute(\"CREATE TABLE meta(id INTEGER primary key, name TEXT, type TEXT)\") \n",
    "cur.execute(\"INSERT INTO meta VALUES (1,'/','d')\") # root dir\n",
    "# meta table stores the id for each file and dir\n",
    "# Do we need to store permision, access and modification time?\n",
    "# assign id in order, use max()+1 to assign the id for the next dir/file\n",
    "cur.execute(\"CREATE TABLE dir(parent INTEGER, child INTEGER, primary key (parent, child))\") \n",
    "# dir table stores the directory structure of the file system\n",
    "cur.execute(\"CREATE TABLE par(id INTEGER, location)\") \n",
    "# par table stores the partition infor about a file"
   ]
  },
  {
   "cell_type": "code",
   "execution_count": 37,
   "id": "6d0a469f",
   "metadata": {},
   "outputs": [],
   "source": [
    "def exist(path): # path: directory or file, eg. \"/user/john\" or \"/user/hello.txt\"\n",
    "    path = path.strip() # remove white space before or after the path\n",
    "    if path[0] == \"/\" and path[-1] != \"/\":# valid path starts with \"/\" - root, and does not end with \"/\"\n",
    "    #id_parent = cur.execute(\"select id from meta where name = '/'\").fetchall()  id of root\n",
    "        id_parent = 1\n",
    "        path = path[1:] # get rid of the root\n",
    "        path = path.split(\"/\") # list of the rest of the path - the name of each directory/file\n",
    "        n = len(path)\n",
    "        while n > 0: \n",
    "            position = len(path)-n\n",
    "            id_child = cur.execute(\"select child from dir where parent = ? and child in (select id FROM meta where name = ?)\", (id_parent, path[position])).fetchall()\n",
    "          # check if the child exist and if the the parent-child relationship exist\n",
    "            if id_child != []:# if there exists such child, it should be unique\n",
    "                id_parent = id_child[0][0] # set the child as the new parent, and go back to the while loop to check for the next directory/file in path\n",
    "                n = n - 1\n",
    "            else:\n",
    "                break\n",
    "        if n > 0:\n",
    "            return \"\"\n",
    "        else: \n",
    "            return id_parent\n",
    "    elif path == \"/\": # if the input is the root\n",
    "        return 1\n",
    "    else: \n",
    "        return \"\""
   ]
  },
  {
   "cell_type": "code",
   "execution_count": 43,
   "id": "fd231085",
   "metadata": {},
   "outputs": [
    {
     "data": {
      "application/vnd.jupyter.widget-view+json": {
       "model_id": "9b4c776aa9f74328b0ffe649f2784a80",
       "version_major": 2,
       "version_minor": 0
      },
      "text/plain": [
       "HTML(value='Create a directory in file system(eg. /user/john)')"
      ]
     },
     "metadata": {},
     "output_type": "display_data"
    },
    {
     "data": {
      "application/vnd.jupyter.widget-view+json": {
       "model_id": "7349e485641e471f93c8e50bd6cf08d4",
       "version_major": 2,
       "version_minor": 0
      },
      "text/plain": [
       "Text(value='', description='mkdir', placeholder='type here')"
      ]
     },
     "metadata": {},
     "output_type": "display_data"
    }
   ],
   "source": [
    "d = ipywidgets.Text(value = '',\n",
    "                      placeholder ='type here',\n",
    "                      description = 'mkdir',\n",
    "                      disabled = False)\n",
    "instructions = ipywidgets.widgets.HTML('Create a directory in file system(eg. /user/john)')\n",
    "display(instructions)\n",
    "display(d)\n",
    "\n",
    "def mkdir(d):# d: directory\n",
    "  # if the directory already exists, notify the user\n",
    "  # check if the dir exist: get the id for the parent dir, search it in the dir table to get all the children\n",
    "  # use a for loop to go through every child's name in meta table using the ids\n",
    "    d = str(d.value)\n",
    "    if d == \"/\":\n",
    "        print(\"Directory already exist.\")\n",
    "    elif d[0] == \"/\" and d[-1] != \"/\":\n",
    "        d = d.split('/')\n",
    "        d_new = d # copy the list of directories into d_new\n",
    "        d_new = d_new[:-1]\n",
    "        if d_new == ['']: \n",
    "            d_new = \"/\"\n",
    "        else: \n",
    "            d_new = \"/\".join(d_new)\n",
    "        id_parent = exist(d_new)\n",
    "        if id_parent != \"\": \n",
    "            id_child = cur.execute(\"select child from dir where parent = ? and child in (select id FROM meta where name = ?)\", (id_parent, d[-1])).fetchall()\n",
    "            if id_child == []: # check if the directory already exist in the system\n",
    "                max_id = cur.execute(\"SELECT max(id) FROM meta\").fetchone()\n",
    "                max_id = max_id[0]\n",
    "                id_child = max_id + 1 # the id assigned to the new directory\n",
    "                cur.execute(\"INSERT INTO meta VALUES (?,?,'d')\",(id_child, d[-1])) ##id needs to be defined\n",
    "                cur.execute(\"INSERT INTO dir VALUES (?,?)\",(id_parent,id_child))\n",
    "            else: \n",
    "                print(\"Directory already exist.\")\n",
    "        else: \n",
    "            print(\"Please enter a valid directory.\")\n",
    "    else:\n",
    "        print(\"Please enter a valid directory.\")\n",
    "\n",
    "d.on_submit(mkdir)\n"
   ]
  },
  {
   "cell_type": "code",
   "execution_count": 44,
   "id": "6834e11c",
   "metadata": {},
   "outputs": [
    {
     "data": {
      "text/plain": [
       "<sqlite3.Cursor at 0x1112b7640>"
      ]
     },
     "execution_count": 44,
     "metadata": {},
     "output_type": "execute_result"
    }
   ],
   "source": [
    "cur.execute(\"Select * from meta\")"
   ]
  },
  {
   "cell_type": "code",
   "execution_count": null,
   "id": "75b4634a",
   "metadata": {},
   "outputs": [],
   "source": []
  }
 ],
 "metadata": {
  "kernelspec": {
   "display_name": "Python 3 (ipykernel)",
   "language": "python",
   "name": "python3"
  },
  "language_info": {
   "codemirror_mode": {
    "name": "ipython",
    "version": 3
   },
   "file_extension": ".py",
   "mimetype": "text/x-python",
   "name": "python",
   "nbconvert_exporter": "python",
   "pygments_lexer": "ipython3",
   "version": "3.10.1"
  }
 },
 "nbformat": 4,
 "nbformat_minor": 5
}
